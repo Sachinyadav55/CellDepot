{
 "cells": [
  {
   "cell_type": "markdown",
   "source": [
    "## Import utils.py"
   ],
   "metadata": {}
  },
  {
   "cell_type": "code",
   "execution_count": 5,
   "source": [
    "import utils as ut"
   ],
   "outputs": [],
   "metadata": {}
  },
  {
   "cell_type": "markdown",
   "source": [
    "## Input dataset - requires one count file and one meta file\n",
    "Demo dataset is located in the ./data folder"
   ],
   "metadata": {}
  },
  {
   "cell_type": "code",
   "execution_count": 6,
   "source": [
    "fdir = \"./data/\"\n",
    "countfile = \"counts.tsv\"\n",
    "metafile = \"all_meta.tsv\""
   ],
   "outputs": [],
   "metadata": {}
  },
  {
   "cell_type": "markdown",
   "source": [
    "## Name your dataset and make description of the dataset"
   ],
   "metadata": {}
  },
  {
   "cell_type": "code",
   "execution_count": 7,
   "source": [
    "fname = \"GSE140231_test\" # dataset file name\n",
    "desc = \"GSE140231 Wade-Martins Lab Human SN and Cortex snRNAseq 17k cells; data - normalized; platform - 10X Chromium | embedding by tsne; color by Level_1_cell_type\" # Description"
   ],
   "outputs": [],
   "metadata": {}
  },
  {
   "cell_type": "markdown",
   "source": [
    "## Preprocessing the dataset\n",
    "### QC (utils.qc) \n",
    "- Filter cells that have >10% mitochondrial counts (paramter: MTcount)\n",
    "- Remove cells with <200 genes per cells (paramter:geneLB)\n",
    "- Remove cells with too few counts (< 6 counts ) (parmeter:cellLB)\n",
    "- Filter cells with too few counts (< 3 counts) for each expressed genes (parameter:filtercellLB)\n",
    "\n",
    "\n",
    "### Preprocessing (utils.preprocessing)\n",
    "- Normalization with same total count = 1e4 for each observation (parameter: cellcount)\n",
    "- Log transforamtion\n",
    "- Annotate highly variable genes\n",
    "- Scale gene counts,  clip to 10 as maximum expression (parameter:maxV)\n",
    "- Compute PCA coordinates\n",
    "\n",
    "### Clustering (utils.clustering)\n",
    "- Create neighborhood graph with 15 neighors and 50 PCs (parameters: nb, np)\n",
    "- UMAP Embedding \n",
    "- TSNE Embeeding\n",
    "\n",
    "**All parameters are fixed, but can be tunned in utils python script**"
   ],
   "metadata": {}
  },
  {
   "cell_type": "code",
   "execution_count": 8,
   "source": [
    "## QC \n",
    "adata = ut.qc(fdir, countfile, metafile) \n",
    "## Preprocessing\n",
    "adata = ut.preprocessing(adata) \n",
    "## Creat neighborhood graph with 15 neighbours and 50 PCs, and embed with both TSNE and UMAP\n",
    "adata = ut.clustering(adata, desc, nb=15, np=50)  \n",
    "## Produce layout file to .h5ad with prefix on file name, ex. GSE140231_test.h5ad\n",
    "adata.write_h5ad(fname + \".h5ad\") "
   ],
   "outputs": [
    {
     "output_type": "stream",
     "name": "stderr",
     "text": [
      "Trying to set attribute `.obs` of view, copying.\n",
      "Trying to set attribute `.var` of view, copying.\n",
      "/home/ychen12/tools/miniconda3/envs/celldepot/lib/python3.9/site-packages/scanpy/preprocessing/_simple.py:843: UserWarning: Revieved a view of an AnnData. Making a copy.\n",
      "  view_to_actual(adata)\n",
      "/home/ychen12/tools/miniconda3/envs/celldepot/lib/python3.9/site-packages/anndata/_core/anndata.py:1220: FutureWarning: The `inplace` parameter in pandas.Categorical.reorder_categories is deprecated and will be removed in a future version. Removing unused categories will always return a new Categorical object.\n",
      "  c.reorder_categories(natsorted(c.categories), inplace=True)\n",
      "... storing 'Library' as categorical\n",
      "/home/ychen12/tools/miniconda3/envs/celldepot/lib/python3.9/site-packages/anndata/_core/anndata.py:1220: FutureWarning: The `inplace` parameter in pandas.Categorical.reorder_categories is deprecated and will be removed in a future version. Removing unused categories will always return a new Categorical object.\n",
      "  c.reorder_categories(natsorted(c.categories), inplace=True)\n",
      "... storing 'Batch' as categorical\n",
      "/home/ychen12/tools/miniconda3/envs/celldepot/lib/python3.9/site-packages/anndata/_core/anndata.py:1220: FutureWarning: The `inplace` parameter in pandas.Categorical.reorder_categories is deprecated and will be removed in a future version. Removing unused categories will always return a new Categorical object.\n",
      "  c.reorder_categories(natsorted(c.categories), inplace=True)\n",
      "... storing 'Brain_Region' as categorical\n",
      "/home/ychen12/tools/miniconda3/envs/celldepot/lib/python3.9/site-packages/anndata/_core/anndata.py:1220: FutureWarning: The `inplace` parameter in pandas.Categorical.reorder_categories is deprecated and will be removed in a future version. Removing unused categories will always return a new Categorical object.\n",
      "  c.reorder_categories(natsorted(c.categories), inplace=True)\n",
      "... storing 'Level_1_cell_type' as categorical\n",
      "/home/ychen12/tools/miniconda3/envs/celldepot/lib/python3.9/site-packages/anndata/_core/anndata.py:1220: FutureWarning: The `inplace` parameter in pandas.Categorical.reorder_categories is deprecated and will be removed in a future version. Removing unused categories will always return a new Categorical object.\n",
      "  c.reorder_categories(natsorted(c.categories), inplace=True)\n",
      "... storing 'Level_2_cell_type' as categorical\n",
      "/home/ychen12/tools/miniconda3/envs/celldepot/lib/python3.9/site-packages/anndata/_core/anndata.py:1220: FutureWarning: The `inplace` parameter in pandas.Categorical.reorder_categories is deprecated and will be removed in a future version. Removing unused categories will always return a new Categorical object.\n",
      "  c.reorder_categories(natsorted(c.categories), inplace=True)\n",
      "... storing '>Description' as categorical\n"
     ]
    }
   ],
   "metadata": {}
  }
 ],
 "metadata": {
  "orig_nbformat": 4,
  "language_info": {
   "name": "python",
   "version": "3.9.6",
   "mimetype": "text/x-python",
   "codemirror_mode": {
    "name": "ipython",
    "version": 3
   },
   "pygments_lexer": "ipython3",
   "nbconvert_exporter": "python",
   "file_extension": ".py"
  },
  "kernelspec": {
   "name": "python3",
   "display_name": "Python 3.9.6 64-bit ('celldepot': conda)"
  },
  "interpreter": {
   "hash": "565f31f1011a18a918035209369d90fffd4b874f4d2af474de137070ec76ce58"
  }
 },
 "nbformat": 4,
 "nbformat_minor": 2
}