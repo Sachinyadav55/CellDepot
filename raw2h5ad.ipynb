import utils as ut

fdir = "./data/"
countfile = "counts.tsv"
metafile = "all_meta.tsv"
fname = "GSE140231_test2"
desc = "GSE140231 Wade-Martins Lab Human SN and Cortex snRNAseq 17k cells; data - normalized; platform - 10X Chromium | embedding by tsne; color by Level_1_cell_type"
adata = ut.qc(fdir, countfile, metafile)
adata = ut.preprocessing(adata)
ut.clustering(fname, adata, desc, nb=15, np=50)
