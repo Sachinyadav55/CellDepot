{
 "cells": [
  {
   "cell_type": "markdown",
   "source": [
    "### Import utils.py"
   ],
   "metadata": {}
  },
  {
   "cell_type": "code",
   "execution_count": 5,
   "source": [
    "import utils as ut\n",
    "import warnings\n",
    "warnings.filterwarnings('ignore')"
   ],
   "outputs": [],
   "metadata": {}
  },
  {
   "cell_type": "markdown",
   "source": [
    "### Input dataset - requires one count file and one meta file\n",
    "Demo dataset is located in the ./data folder"
   ],
   "metadata": {}
  },
  {
   "cell_type": "code",
   "execution_count": 6,
   "source": [
    "fdir = \"./data/\" ## data directionary\n",
    "countfile = \"counts.tsv\" ## count file - includes the count matrix for each features in each sample\n",
    "metafile = \"all_meta.tsv\" ## meta file - includes the information about the sample"
   ],
   "outputs": [],
   "metadata": {}
  },
  {
   "cell_type": "markdown",
   "source": [
    "### Name your dataset and make description of dataset"
   ],
   "metadata": {}
  },
  {
   "cell_type": "code",
   "execution_count": 7,
   "source": [
    "fname = \"GSE140231_test\" # dataset file name\n",
    "desc = \"GSE140231 Wade-Martins Lab Human SN and Cortex snRNAseq 17k cells; data - normalized; platform - 10X Chromium | embedding by tsne; color by Level_1_cell_type\" # Description"
   ],
   "outputs": [],
   "metadata": {}
  },
  {
   "cell_type": "markdown",
   "source": [
    "### Preprocessing the dataset"
   ],
   "metadata": {}
  },
  {
   "cell_type": "code",
   "execution_count": 8,
   "source": [
    "adata = ut.qc(fdir, countfile, metafile)  ## QC\n",
    "adata = ut.preprocessing(adata) ## Preprocessing - normalization, log transformation, Clip to maximum = 10, pca \n",
    "ut.clustering(fname, adata, desc, nb=15, np=50) ## Clustering on local neighbor size = 15 and use 50 PCs"
   ],
   "outputs": [
    {
     "output_type": "stream",
     "name": "stderr",
     "text": [
      "Trying to set attribute `.obs` of view, copying.\n",
      "Trying to set attribute `.var` of view, copying.\n",
      "... storing 'Library' as categorical\n",
      "... storing 'Batch' as categorical\n",
      "... storing 'Brain_Region' as categorical\n",
      "... storing 'Level_1_cell_type' as categorical\n",
      "... storing 'Level_2_cell_type' as categorical\n",
      "... storing '>Description' as categorical\n"
     ]
    }
   ],
   "metadata": {}
  }
 ],
 "metadata": {
  "orig_nbformat": 4,
  "language_info": {
   "name": "python",
   "version": "3.9.6",
   "mimetype": "text/x-python",
   "codemirror_mode": {
    "name": "ipython",
    "version": 3
   },
   "pygments_lexer": "ipython3",
   "nbconvert_exporter": "python",
   "file_extension": ".py"
  },
  "kernelspec": {
   "name": "python3",
   "display_name": "Python 3.9.6 64-bit ('celldepot': conda)"
  },
  "interpreter": {
   "hash": "565f31f1011a18a918035209369d90fffd4b874f4d2af474de137070ec76ce58"
  }
 },
 "nbformat": 4,
 "nbformat_minor": 2
}