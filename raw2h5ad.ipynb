{
 "cells": [
  {
   "cell_type": "markdown",
   "source": [
    "### Import utils.py"
   ],
   "metadata": {}
  },
  {
   "cell_type": "code",
   "execution_count": 1,
   "source": [
    "import utils as ut"
   ],
   "outputs": [],
   "metadata": {}
  },
  {
   "cell_type": "markdown",
   "source": [
    "### Input dataset - requires one count file and one meta file\n",
    "Demo dataset is located in the ./data folder"
   ],
   "metadata": {}
  },
  {
   "cell_type": "code",
   "execution_count": 2,
   "source": [
    "fdir = \"./data/\"\n",
    "countfile = \"counts.tsv\"\n",
    "metafile = \"all_meta.tsv\""
   ],
   "outputs": [],
   "metadata": {}
  },
  {
   "cell_type": "markdown",
   "source": [
    "### Name your dataset and make description of dataset"
   ],
   "metadata": {}
  },
  {
   "cell_type": "code",
   "execution_count": 3,
   "source": [
    "fname = \"GSE140231_test\" # dataset file name\n",
    "desc = \"GSE140231 Wade-Martins Lab Human SN and Cortex snRNAseq 17k cells; data - normalized; platform - 10X Chromium | embedding by tsne; color by Level_1_cell_type\" # Description"
   ],
   "outputs": [],
   "metadata": {}
  },
  {
   "cell_type": "markdown",
   "source": [
    "### Preprocessing the dataset"
   ],
   "metadata": {}
  },
  {
   "cell_type": "code",
   "execution_count": 4,
   "source": [
    "adata = ut.qc(fdir, countfile, metafile) ## QC \n",
    "adata = ut.preprocessing(adata) ## Preprocessinggi\n",
    "adata = ut.clustering(adata, desc, nb=15, np=50)  ## Clustering with 15 neighbours and 50 PCs\n",
    "adata.write_h5ad(fname + \".h5ad\") ## Produce layout file to .h5ad with prefix on file name, ex. GSE140231_test.h5ad"
   ],
   "outputs": [
    {
     "output_type": "stream",
     "name": "stderr",
     "text": [
      "Trying to set attribute `.obs` of view, copying.\n",
      "Trying to set attribute `.var` of view, copying.\n",
      "/home/ychen12/tools/miniconda3/envs/celldepot/lib/python3.9/site-packages/scanpy/preprocessing/_simple.py:843: UserWarning: Revieved a view of an AnnData. Making a copy.\n",
      "  view_to_actual(adata)\n",
      "/home/ychen12/tools/miniconda3/envs/celldepot/lib/python3.9/site-packages/anndata/_core/anndata.py:1220: FutureWarning: The `inplace` parameter in pandas.Categorical.reorder_categories is deprecated and will be removed in a future version. Removing unused categories will always return a new Categorical object.\n",
      "  c.reorder_categories(natsorted(c.categories), inplace=True)\n",
      "... storing 'Library' as categorical\n",
      "/home/ychen12/tools/miniconda3/envs/celldepot/lib/python3.9/site-packages/anndata/_core/anndata.py:1220: FutureWarning: The `inplace` parameter in pandas.Categorical.reorder_categories is deprecated and will be removed in a future version. Removing unused categories will always return a new Categorical object.\n",
      "  c.reorder_categories(natsorted(c.categories), inplace=True)\n",
      "... storing 'Batch' as categorical\n",
      "/home/ychen12/tools/miniconda3/envs/celldepot/lib/python3.9/site-packages/anndata/_core/anndata.py:1220: FutureWarning: The `inplace` parameter in pandas.Categorical.reorder_categories is deprecated and will be removed in a future version. Removing unused categories will always return a new Categorical object.\n",
      "  c.reorder_categories(natsorted(c.categories), inplace=True)\n",
      "... storing 'Brain_Region' as categorical\n",
      "/home/ychen12/tools/miniconda3/envs/celldepot/lib/python3.9/site-packages/anndata/_core/anndata.py:1220: FutureWarning: The `inplace` parameter in pandas.Categorical.reorder_categories is deprecated and will be removed in a future version. Removing unused categories will always return a new Categorical object.\n",
      "  c.reorder_categories(natsorted(c.categories), inplace=True)\n",
      "... storing 'Level_1_cell_type' as categorical\n",
      "/home/ychen12/tools/miniconda3/envs/celldepot/lib/python3.9/site-packages/anndata/_core/anndata.py:1220: FutureWarning: The `inplace` parameter in pandas.Categorical.reorder_categories is deprecated and will be removed in a future version. Removing unused categories will always return a new Categorical object.\n",
      "  c.reorder_categories(natsorted(c.categories), inplace=True)\n",
      "... storing 'Level_2_cell_type' as categorical\n",
      "/home/ychen12/tools/miniconda3/envs/celldepot/lib/python3.9/site-packages/anndata/_core/anndata.py:1220: FutureWarning: The `inplace` parameter in pandas.Categorical.reorder_categories is deprecated and will be removed in a future version. Removing unused categories will always return a new Categorical object.\n",
      "  c.reorder_categories(natsorted(c.categories), inplace=True)\n",
      "... storing '>Description' as categorical\n"
     ]
    }
   ],
   "metadata": {}
  }
 ],
 "metadata": {
  "orig_nbformat": 4,
  "language_info": {
   "name": "python",
   "version": "3.9.6",
   "mimetype": "text/x-python",
   "codemirror_mode": {
    "name": "ipython",
    "version": 3
   },
   "pygments_lexer": "ipython3",
   "nbconvert_exporter": "python",
   "file_extension": ".py"
  },
  "kernelspec": {
   "name": "python3",
   "display_name": "Python 3.9.6 64-bit ('celldepot': conda)"
  },
  "interpreter": {
   "hash": "565f31f1011a18a918035209369d90fffd4b874f4d2af474de137070ec76ce58"
  }
 },
 "nbformat": 4,
 "nbformat_minor": 2
}