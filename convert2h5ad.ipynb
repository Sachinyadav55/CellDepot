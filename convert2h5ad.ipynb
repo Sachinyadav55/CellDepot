{
 "cells": [
  {
   "cell_type": "code",
   "execution_count": null,
   "source": [
    "import numpy as np\n",
    "import pandas as pd\n",
    "import scanpy as sc"
   ],
   "outputs": [],
   "metadata": {}
  },
  {
   "cell_type": "markdown",
   "source": [
    "#### Convert to snRNAseq samples\n",
    "##### Load the raw dataset distributed with scanpy, write to an h5ad file"
   ],
   "metadata": {}
  },
  {
   "cell_type": "code",
   "execution_count": null,
   "source": [
    "fpath = \"./data/\" # file path\n",
    "file_accession = \"sample\" # file name\n",
    "raw_data = sc.read(fpath + file_accession)\n",
    "sc.write(\"./\" + file_accession + \"_pre.h5ad\", raw_data) "
   ],
   "outputs": [],
   "metadata": {}
  },
  {
   "cell_type": "markdown",
   "source": [
    "#### Prepare workflow\n",
    "##### same as the $\\textrm{cellxgene prepare}$ command"
   ],
   "metadata": {}
  },
  {
   "cell_type": "code",
   "execution_count": null,
   "source": [
    "## Step 1: Calculate QC metrics and store in the anndata object\n",
    "sc.pp.calculate_qc_metrics(raw_data, inplace=True)"
   ],
   "outputs": [],
   "metadata": {}
  },
  {
   "cell_type": "code",
   "execution_count": null,
   "source": [
    "## Step 2: Normalize with a very vanilla recipe\n",
    "normalized_data = sc.pp.recipe_seurat(raw_data, copy=True)"
   ],
   "outputs": [],
   "metadata": {}
  },
  {
   "cell_type": "code",
   "execution_count": null,
   "source": [
    "## Step 3: Do some basic preprocessing to run PCA and compute the neighbor graph  \n",
    "sc.pp.pca(normalized_data)\n",
    "sc.pp.neighbors(normalized_data)"
   ],
   "outputs": [],
   "metadata": {}
  },
  {
   "cell_type": "code",
   "execution_count": null,
   "source": [
    "## Step 4: Infer clusters with the Louvain algorithm  \n",
    "sc.tl.louvain(normalized_data)"
   ],
   "outputs": [],
   "metadata": {}
  },
  {
   "cell_type": "code",
   "execution_count": null,
   "source": [
    "## Step 5: Compute tsne and umap embeddings  \n",
    "sc.tl.umap(normalized_data)"
   ],
   "outputs": [],
   "metadata": {}
  },
  {
   "cell_type": "code",
   "execution_count": null,
   "source": [
    "## Write to output file  \n",
    "sc.write(\"./\" + file_accession + \".h5ad\",  normalized_data)"
   ],
   "outputs": [],
   "metadata": {}
  }
 ],
 "metadata": {
  "kernelspec": {
   "display_name": "Python 3",
   "language": "python",
   "name": "python3"
  },
  "language_info": {
   "codemirror_mode": {
    "name": "ipython",
    "version": 3
   },
   "file_extension": ".py",
   "mimetype": "text/x-python",
   "name": "python",
   "nbconvert_exporter": "python",
   "pygments_lexer": "ipython3",
   "version": "3.6.5"
  }
 },
 "nbformat": 4,
 "nbformat_minor": 4
}